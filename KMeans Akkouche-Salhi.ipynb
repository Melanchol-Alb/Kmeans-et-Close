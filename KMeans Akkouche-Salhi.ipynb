{
 "cells": [
  {
   "cell_type": "code",
   "execution_count": 1,
   "metadata": {},
   "outputs": [],
   "source": [
    "import numpy as np\n",
    "import pandas as pd\n",
    "import matplotlib.pyplot as plt"
   ]
  },
  {
   "cell_type": "markdown",
   "metadata": {},
   "source": [
    "## Lecture des données"
   ]
  },
  {
   "cell_type": "code",
   "execution_count": 2,
   "metadata": {},
   "outputs": [
    {
     "data": {
      "text/html": [
       "<div>\n",
       "<style scoped>\n",
       "    .dataframe tbody tr th:only-of-type {\n",
       "        vertical-align: middle;\n",
       "    }\n",
       "\n",
       "    .dataframe tbody tr th {\n",
       "        vertical-align: top;\n",
       "    }\n",
       "\n",
       "    .dataframe thead th {\n",
       "        text-align: right;\n",
       "    }\n",
       "</style>\n",
       "<table border=\"1\" class=\"dataframe\">\n",
       "  <thead>\n",
       "    <tr style=\"text-align: right;\">\n",
       "      <th></th>\n",
       "      <th>X1</th>\n",
       "      <th>X2</th>\n",
       "      <th>X3</th>\n",
       "      <th>X4</th>\n",
       "      <th>Y</th>\n",
       "    </tr>\n",
       "  </thead>\n",
       "  <tbody>\n",
       "    <tr>\n",
       "      <th>0</th>\n",
       "      <td>5.1</td>\n",
       "      <td>3.5</td>\n",
       "      <td>1.4</td>\n",
       "      <td>0.2</td>\n",
       "      <td>Iris-setosa</td>\n",
       "    </tr>\n",
       "    <tr>\n",
       "      <th>1</th>\n",
       "      <td>4.9</td>\n",
       "      <td>3.0</td>\n",
       "      <td>1.4</td>\n",
       "      <td>0.2</td>\n",
       "      <td>Iris-setosa</td>\n",
       "    </tr>\n",
       "    <tr>\n",
       "      <th>2</th>\n",
       "      <td>4.7</td>\n",
       "      <td>3.2</td>\n",
       "      <td>1.3</td>\n",
       "      <td>0.2</td>\n",
       "      <td>Iris-setosa</td>\n",
       "    </tr>\n",
       "    <tr>\n",
       "      <th>3</th>\n",
       "      <td>4.6</td>\n",
       "      <td>3.1</td>\n",
       "      <td>1.5</td>\n",
       "      <td>0.2</td>\n",
       "      <td>Iris-setosa</td>\n",
       "    </tr>\n",
       "    <tr>\n",
       "      <th>4</th>\n",
       "      <td>5.0</td>\n",
       "      <td>3.6</td>\n",
       "      <td>1.4</td>\n",
       "      <td>0.2</td>\n",
       "      <td>Iris-setosa</td>\n",
       "    </tr>\n",
       "  </tbody>\n",
       "</table>\n",
       "</div>"
      ],
      "text/plain": [
       "    X1   X2   X3   X4            Y\n",
       "0  5.1  3.5  1.4  0.2  Iris-setosa\n",
       "1  4.9  3.0  1.4  0.2  Iris-setosa\n",
       "2  4.7  3.2  1.3  0.2  Iris-setosa\n",
       "3  4.6  3.1  1.5  0.2  Iris-setosa\n",
       "4  5.0  3.6  1.4  0.2  Iris-setosa"
      ]
     },
     "execution_count": 2,
     "metadata": {},
     "output_type": "execute_result"
    }
   ],
   "source": [
    "don = pd.read_csv('iris.csv')\n",
    "don.head()"
   ]
  },
  {
   "cell_type": "code",
   "execution_count": 3,
   "metadata": {},
   "outputs": [
    {
     "data": {
      "text/plain": [
       "array([0., 0., 0., 0., 0., 0., 0., 0., 0., 0., 0., 0., 0., 0., 0., 0., 0.,\n",
       "       0., 0., 0., 0., 0., 0., 0., 0., 0., 0., 0., 0., 0., 0., 0., 0., 0.,\n",
       "       0., 0., 0., 0., 0., 0., 0., 0., 0., 0., 0., 0., 0., 0., 0., 0., 1.,\n",
       "       1., 1., 1., 1., 1., 1., 1., 1., 1., 1., 1., 1., 1., 1., 1., 1., 1.,\n",
       "       1., 1., 1., 1., 1., 1., 1., 1., 1., 1., 1., 1., 1., 1., 1., 1., 1.,\n",
       "       1., 1., 1., 1., 1., 1., 1., 1., 1., 1., 1., 1., 1., 1., 1., 2., 2.,\n",
       "       2., 2., 2., 2., 2., 2., 2., 2., 2., 2., 2., 2., 2., 2., 2., 2., 2.,\n",
       "       2., 2., 2., 2., 2., 2., 2., 2., 2., 2., 2., 2., 2., 2., 2., 2., 2.,\n",
       "       2., 2., 2., 2., 2., 2., 2., 2., 2., 2., 2., 2., 2., 2.])"
      ]
     },
     "execution_count": 3,
     "metadata": {},
     "output_type": "execute_result"
    }
   ],
   "source": [
    "Y = np.zeros(don.values[:,4].shape)\n",
    "Y = Y + (don.values[:,4]=='Iris-versicolor')\n",
    "Y = Y + 2*(don.values[:,4]=='Iris-virginica')\n",
    "Y"
   ]
  },
  {
   "cell_type": "code",
   "execution_count": 4,
   "metadata": {},
   "outputs": [
    {
     "data": {
      "text/plain": [
       "array([[5.1, 3.5, 1.4, 0.2],\n",
       "       [4.9, 3. , 1.4, 0.2],\n",
       "       [4.7, 3.2, 1.3, 0.2],\n",
       "       [4.6, 3.1, 1.5, 0.2],\n",
       "       [5. , 3.6, 1.4, 0.2]], dtype=float32)"
      ]
     },
     "execution_count": 4,
     "metadata": {},
     "output_type": "execute_result"
    }
   ],
   "source": [
    "data = don.values[:,:-1].astype('float32')\n",
    "data[:5]"
   ]
  },
  {
   "cell_type": "markdown",
   "metadata": {},
   "source": [
    "## Normalisation"
   ]
  },
  {
   "cell_type": "code",
   "execution_count": 5,
   "metadata": {},
   "outputs": [
    {
     "data": {
      "text/plain": [
       "array([[-0.9006812 ,  1.0320569 , -1.3412726 , -1.3129768 ],\n",
       "       [-1.1430167 , -0.12495793, -1.3412726 , -1.3129768 ],\n",
       "       [-1.3853527 ,  0.33784813, -1.3981384 , -1.3129768 ],\n",
       "       [-1.5065205 ,  0.10644482, -1.284407  , -1.3129768 ],\n",
       "       [-1.0218489 ,  1.2634597 , -1.3412726 , -1.3129768 ]],\n",
       "      dtype=float32)"
      ]
     },
     "execution_count": 5,
     "metadata": {},
     "output_type": "execute_result"
    }
   ],
   "source": [
    "data = (data - data.mean(axis=0))/data.std(axis=0)\n",
    "data[:5]"
   ]
  },
  {
   "cell_type": "markdown",
   "metadata": {},
   "source": [
    "## Implémentation de Kmeans"
   ]
  },
  {
   "cell_type": "code",
   "execution_count": 6,
   "metadata": {},
   "outputs": [],
   "source": [
    "def kmeans(X, k):\n",
    "    diff = True\n",
    "    cluster = np.zeros(X.shape[0])\n",
    "    centroids = data[:k]\n",
    "    while diff:\n",
    "        for i, row in enumerate(X):\n",
    "            mn_dist = float('inf')\n",
    "            for idx, centroid in enumerate(centroids):\n",
    "                d = np.sqrt(np.power(centroid-row,2).sum())\n",
    "                if mn_dist > d:\n",
    "                    mn_dist = d\n",
    "                    cluster[i] = idx\n",
    "        new_centroids = pd.DataFrame(X,dtype=float).groupby(by=cluster).mean().values\n",
    "        if np.count_nonzero(centroids-new_centroids) == 0:\n",
    "            diff = False\n",
    "        else:\n",
    "            centroids = new_centroids\n",
    "    return centroids, cluster"
   ]
  },
  {
   "cell_type": "markdown",
   "metadata": {},
   "source": [
    "## Résultats pour K=3"
   ]
  },
  {
   "cell_type": "code",
   "execution_count": 7,
   "metadata": {},
   "outputs": [],
   "source": [
    "cent,clus = kmeans(data,3)"
   ]
  },
  {
   "cell_type": "code",
   "execution_count": 8,
   "metadata": {},
   "outputs": [
    {
     "data": {
      "text/plain": [
       "array([[ 1.16743417,  0.15377744,  1.00314535,  1.02963254],\n",
       "       [-0.01139546, -0.87288534,  0.37688405,  0.3116535 ],\n",
       "       [-1.01457886,  0.84230649, -1.30487863, -1.25512869]])"
      ]
     },
     "execution_count": 8,
     "metadata": {},
     "output_type": "execute_result"
    }
   ],
   "source": [
    "cent"
   ]
  },
  {
   "cell_type": "code",
   "execution_count": 9,
   "metadata": {},
   "outputs": [
    {
     "data": {
      "text/plain": [
       "array([2., 2., 2., 2., 2., 2., 2., 2., 2., 2., 2., 2., 2., 2., 2., 2., 2.,\n",
       "       2., 2., 2., 2., 2., 2., 2., 2., 2., 2., 2., 2., 2., 2., 2., 2., 2.,\n",
       "       2., 2., 2., 2., 2., 2., 2., 2., 2., 2., 2., 2., 2., 2., 2., 2., 0.,\n",
       "       0., 0., 1., 1., 1., 0., 1., 1., 1., 1., 1., 1., 1., 1., 0., 1., 1.,\n",
       "       1., 1., 0., 1., 1., 1., 1., 0., 0., 0., 1., 1., 1., 1., 1., 1., 1.,\n",
       "       0., 0., 1., 1., 1., 1., 1., 1., 1., 1., 1., 1., 1., 1., 1., 0., 1.,\n",
       "       0., 0., 0., 0., 1., 0., 1., 0., 0., 1., 0., 1., 1., 0., 0., 0., 0.,\n",
       "       1., 0., 1., 0., 1., 0., 0., 1., 1., 0., 0., 0., 0., 0., 1., 1., 0.,\n",
       "       0., 0., 1., 0., 0., 0., 1., 0., 0., 0., 1., 0., 0., 1.])"
      ]
     },
     "execution_count": 9,
     "metadata": {},
     "output_type": "execute_result"
    }
   ],
   "source": [
    "clus"
   ]
  },
  {
   "cell_type": "markdown",
   "metadata": {},
   "source": [
    "## Mesures de performance du clustering"
   ]
  },
  {
   "cell_type": "code",
   "execution_count": 10,
   "metadata": {},
   "outputs": [],
   "source": [
    "def dstMoyCentres(cent): #distance moyenne interclasse, difference entre centroides\n",
    "    DSTs = []\n",
    "    for i in range(cent.shape[0]):\n",
    "        for j in range(i+1,cent.shape[0]):\n",
    "            DSTs = DSTs + [(cent[i]-cent[j]).sum()**2]\n",
    "    return (np.mean(DSTs))\n",
    "def dstMoyIntra(data,cent,clus,k): #difference moyenne intraclasse, difference entre chaque valeur et son centroid\n",
    "    DSTs = []\n",
    "    for c in range(k):\n",
    "        DSTs = DSTs + [abs((data[clus==c]-cent[c]).sum())]\n",
    "    return (np.mean(DSTs))\n",
    "def inertie(data,cent,clus):\n",
    "    dist = 0\n",
    "    for i in range(data.shape[0]):\n",
    "        dist = dist + (np.power(data[i]-cent[int(clus[i])],2).sum())\n",
    "    return (dist)"
   ]
  },
  {
   "cell_type": "markdown",
   "metadata": {},
   "source": [
    "## Kmeans appliqué pour differentes valeurs de K"
   ]
  },
  {
   "cell_type": "code",
   "execution_count": 11,
   "metadata": {},
   "outputs": [
    {
     "name": "stdout",
     "output_type": "stream",
     "text": [
      "Les distances interclasse trouvées sont :  [16.797  18.6924 18.4652 16.0115 16.0264 15.4542 13.3526]\n",
      "Les distances intraclasse trouvées sont :  [5.7732 6.2172 4.0662 2.1871 1.6283 1.3481 1.249 ] /10^15\n",
      "Les inerties trouvées sont :  [223.732  141.1542 114.6155 105.3245 103.7241 102.0623 101.8744]\n"
     ]
    }
   ],
   "source": [
    "maxClusN = 8\n",
    "minClusN = 2\n",
    "Ks = range(minClusN,maxClusN+1)\n",
    "dst = []\n",
    "dst2 = []\n",
    "ine = []\n",
    "for k in Ks:\n",
    "    cent,clus = kmeans(data,k)\n",
    "    dst = dst + [dstMoyCentres(cent)]\n",
    "    dst2 = dst2 + [dstMoyIntra(data,cent,clus,k)]\n",
    "    ine = ine + [inertie(data,cent,clus)]\n",
    "print(\"Les distances interclasse trouvées sont : \",np.round(dst,4))\n",
    "print(\"Les distances intraclasse trouvées sont : \",np.round(np.array(dst2)*1000000000000000,4),\"/10^15\")\n",
    "print(\"Les inerties trouvées sont : \",np.round(ine,4))"
   ]
  },
  {
   "cell_type": "code",
   "execution_count": 12,
   "metadata": {},
   "outputs": [
    {
     "name": "stdout",
     "output_type": "stream",
     "text": [
      "Il suffit donc de prendre le nombre de clusters qui donne le maximum de distance interclasse!\n",
      "On choisi donc  3\n",
      "Les distance intraclasse par contre sont trop petites\n"
     ]
    },
    {
     "data": {
      "image/png": "[encoded data removed]",
      "text/plain": [
       "<Figure size 1080x288 with 2 Axes>"
      ]
     },
     "metadata": {
      "needs_background": "light"
     },
     "output_type": "display_data"
    }
   ],
   "source": [
    "fig,(ax1,ax2) = plt.subplots(1,2,figsize=(15,4))\n",
    "ax1.plot(Ks,dst)\n",
    "ax1.set(xlabel=\"Distance Interclasse Moyenne\",ylabel=\"Nombre de clusters\")\n",
    "ax2.plot(Ks,dst2)\n",
    "ax2.set(xlabel=\"Distance Intraclasse Moyenne\",ylabel=\"Nombre de clusters\")\n",
    "print(\"Il suffit donc de prendre le nombre de clusters qui donne le maximum de distance interclasse!\")\n",
    "print(\"On choisi donc \",Ks[np.argmax(dst)])\n",
    "print(\"Les distance intraclasse par contre sont trop petites\")"
   ]
  },
  {
   "cell_type": "markdown",
   "metadata": {},
   "source": [
    "## La méthode du coude"
   ]
  },
  {
   "cell_type": "code",
   "execution_count": 13,
   "metadata": {},
   "outputs": [
    {
     "data": {
      "text/plain": [
       "[<matplotlib.lines.Line2D at 0xec4ca30>]"
      ]
     },
     "execution_count": 13,
     "metadata": {},
     "output_type": "execute_result"
    },
    {
     "data": {
      "image/png": "[encoded data removed]",
      "text/plain": [
       "<Figure size 432x288 with 1 Axes>"
      ]
     },
     "metadata": {
      "needs_background": "light"
     },
     "output_type": "display_data"
    }
   ],
   "source": [
    "plt.plot(Ks,ine)\n",
    "plt.plot([min(Ks),max(Ks)],[ine[min(Ks)-minClusN],ine[max(Ks)-minClusN]])"
   ]
  },
  {
   "cell_type": "code",
   "execution_count": 14,
   "metadata": {},
   "outputs": [
    {
     "name": "stdout",
     "output_type": "stream",
     "text": [
      "Les distances trouvées sont :  [0.     3.0622 3.3686 2.8267 1.9066 0.9896 0.    ]\n",
      "Donc avec la méthode du coude on choisi  4  clusters.\n"
     ]
    },
    {
     "data": {
      "image/png": "[encoded data removed]",
      "text/plain": [
       "<Figure size 432x288 with 1 Axes>"
      ]
     },
     "metadata": {
      "needs_background": "light"
     },
     "output_type": "display_data"
    }
   ],
   "source": [
    "def calcDst(x,y,a,b,c):\n",
    "    return (abs(a*x+b*y+c)/np.sqrt(a*a+b*b))\n",
    "a = ine[max(Ks)-minClusN] - ine[min(Ks)-minClusN]\n",
    "b = -(max(Ks)-min(Ks))\n",
    "c = -min(Ks)*ine[max(Ks)-minClusN]+max(Ks)*ine[min(Ks)-minClusN]\n",
    "DSTS = []\n",
    "for k in range(maxClusN-minClusN+1):\n",
    "    DSTS = DSTS + [calcDst(Ks[k],ine[k],a,b,c)]\n",
    "plt.plot(Ks,DSTS)\n",
    "print(\"Les distances trouvées sont : \",np.round(DSTS,4))\n",
    "print(\"Donc avec la méthode du coude on choisi \",Ks[np.argmax(DSTS)],\" clusters.\")"
   ]
  },
  {
   "cell_type": "markdown",
   "metadata": {},
   "source": [
    "## En faisant appel a l'algorithme MeanShift"
   ]
  },
  {
   "cell_type": "code",
   "execution_count": 15,
   "metadata": {},
   "outputs": [
    {
     "name": "stdout",
     "output_type": "stream",
     "text": [
      "Number of estimated clusters : 3\n"
     ]
    }
   ],
   "source": [
    "from sklearn.cluster import MeanShift, estimate_bandwidth\n",
    "\n",
    "bandwidth = estimate_bandwidth(data, quantile=0.26, n_jobs=-1)\n",
    "ms = MeanShift(bandwidth=bandwidth, bin_seeding=False, n_jobs=-1, max_iter=500)\n",
    "ms.fit(data)\n",
    "\n",
    "print(f\"Number of estimated clusters : {len(np.unique(ms.labels_))}\")"
   ]
  },
  {
   "cell_type": "code",
   "execution_count": null,
   "metadata": {},
   "outputs": [],
   "source": []
  }
 ],
 "metadata": {
  "kernelspec": {
   "display_name": "Python 3",
   "language": "python",
   "name": "python3"
  },
  "language_info": {
   "codemirror_mode": {
    "name": "ipython",
    "version": 3
   },
   "file_extension": ".py",
   "mimetype": "text/x-python",
   "name": "python",
   "nbconvert_exporter": "python",
   "pygments_lexer": "ipython3",
   "version": "3.8.5"
  }
 },
 "nbformat": 4,
 "nbformat_minor": 4
}
